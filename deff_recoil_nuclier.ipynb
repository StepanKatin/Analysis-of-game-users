{
  "nbformat": 4,
  "nbformat_minor": 0,
  "metadata": {
    "colab": {
      "provenance": [],
      "authorship_tag": "ABX9TyOVMIB41bit6mx8f7PczUDr",
      "include_colab_link": true
    },
    "kernelspec": {
      "name": "python3",
      "display_name": "Python 3"
    },
    "language_info": {
      "name": "python"
    }
  },
  "cells": [
    {
      "cell_type": "markdown",
      "metadata": {
        "id": "view-in-github",
        "colab_type": "text"
      },
      "source": [
        "<a href=\"https://colab.research.google.com/github/StepanKatin/Analysis_of_game_users/blob/main/deff_recoil_nuclier.ipynb\" target=\"_parent\"><img src=\"https://colab.research.google.com/assets/colab-badge.svg\" alt=\"Open In Colab\"/></a>"
      ]
    },
    {
      "cell_type": "code",
      "execution_count": null,
      "metadata": {
        "id": "GKJy5T14Wf0V"
      },
      "outputs": [],
      "source": [
        "import math as m"
      ]
    },
    {
      "cell_type": "code",
      "source": [
        "import pandas as pd\n",
        "import numpy as np\n",
        "import random as r"
      ],
      "metadata": {
        "id": "rsMBt7EkWrlA"
      },
      "execution_count": null,
      "outputs": []
    },
    {
      "cell_type": "code",
      "source": [
        "import scipy.integrate as integr"
      ],
      "metadata": {
        "id": "mdFHX8k2HkRC"
      },
      "execution_count": null,
      "outputs": []
    },
    {
      "cell_type": "markdown",
      "source": [
        "# Введем константы"
      ],
      "metadata": {
        "id": "JAU-bpXtvAYd"
      }
    },
    {
      "cell_type": "code",
      "source": [
        "me = 9.1093837015*10**(-31) #кг масса электрона\n",
        "Me= 511000 #эВ масса покоя электрона\n",
        "r0 = 2.818*10**(-15) # м радиус электрона\n",
        "Ee = 511*10**(3) *  1.602176634*10**(-19) #Дж энергия покоя электрона в джоулях\n",
        "c = (Ee/me)**(0.5) # вывод константы скорости света м\\с\n",
        "c # м\\с"
      ],
      "metadata": {
        "colab": {
          "base_uri": "https://localhost:8080/"
        },
        "id": "-0EFYOOBeMCt",
        "outputId": "b9ea01a3-8d1a-46ad-eb40-9938f9933aa0"
      },
      "execution_count": null,
      "outputs": [
        {
          "output_type": "execute_result",
          "data": {
            "text/plain": [
              "299792766.0075499"
            ]
          },
          "metadata": {},
          "execution_count": 4
        }
      ]
    },
    {
      "cell_type": "code",
      "source": [],
      "metadata": {
        "id": "BFBCB8MBeMMM"
      },
      "execution_count": null,
      "outputs": []
    },
    {
      "cell_type": "markdown",
      "source": [
        "# В данном эксперементе рассмаривается пролет ядра отдачи радия 223, образовавшегося в результате альфа-распала 227Th.\n",
        "\n",
        "> 227Th --> 223Ra + 4He\n"
      ],
      "metadata": {
        "id": "ITTi1kGnvMOk"
      }
    },
    {
      "cell_type": "markdown",
      "source": [
        "# Введем данные о ионизирующей частице 223Ra"
      ],
      "metadata": {
        "id": "v0EL6hf90qF5"
      }
    },
    {
      "cell_type": "code",
      "source": [
        "E = 100*10**3 #эВ энергия отдачи ядра радия 223\n",
        "M = 223*931.49*10**(9) #МэВ масса ядра радия 223\n",
        "V = 3.05*10**(5) # м\\с скорость ядра отдачи радия 223\n",
        "B = V/c # коэф. бетта\n",
        "Z = 2 # заряд ядра отдачи в единицах позитрона"
      ],
      "metadata": {
        "id": "m5PURdQdlHuE"
      },
      "execution_count": null,
      "outputs": []
    },
    {
      "cell_type": "markdown",
      "source": [
        "\n",
        "# Введем данные среды\n",
        "Среда представляет воздух давлением 10 -5 Па, что характерно для высокого вакуума"
      ],
      "metadata": {
        "id": "h1D5AhLj3d_P"
      }
    },
    {
      "cell_type": "code",
      "source": [
        "vkam = 0.0628 #м3 объем полусферической камеры радиусом 0,1 м\n",
        "I = 14.53 # эВ ионизационный потенциал азота\n"
      ],
      "metadata": {
        "id": "CihEFtci3hle"
      },
      "execution_count": null,
      "outputs": []
    },
    {
      "cell_type": "code",
      "source": [
        "mol = 10**(-5)*vkam/(8.314*300) # моль воздуха в камере объемом vkam используя уравнение Мендилеева-Клаперона\n",
        "Na =  6.02214076*10**(23) #число авогадро\n",
        "Ngaza = Na*mol # шт количество атомов воздуха в объеме камеры\n",
        "mgaza = mol*29 # г масса воздуха в камере\n",
        "vkamcm3 = vkam*10**(6) #см3 перевод объема камеры в см3\n",
        "air_density = mgaza/vkamcm3 # г\\см3 плотность воздуха в камере\n",
        "A_air = 28.98 #а.е.м. среднее массовое число воздуха\n",
        "Z_air = 7.3 # единицы позитрона примем средний заряд ядер воздуха за заряд ядра азота"
      ],
      "metadata": {
        "id": "nneuKi_lJiFF"
      },
      "execution_count": null,
      "outputs": []
    },
    {
      "cell_type": "markdown",
      "source": [
        "# Произведем проверку пригодности формулы Бете-Блоха для расчета (http://nuclphys.sinp.msu.ru/partmat/pm01.htm)"
      ],
      "metadata": {
        "id": "i0wWyrTL09d3"
      }
    },
    {
      "cell_type": "code",
      "source": [
        "((M*(c**2))/Me)/E"
      ],
      "metadata": {
        "colab": {
          "base_uri": "https://localhost:8080/"
        },
        "id": "Jc3y_A79k_P7",
        "outputId": "06090ac7-e8b0-4398-df7b-887b658e5918"
      },
      "execution_count": null,
      "outputs": [
        {
          "output_type": "execute_result",
          "data": {
            "text/plain": [
              "3.6534608515901823e+20"
            ]
          },
          "metadata": {},
          "execution_count": 8
        }
      ]
    },
    {
      "cell_type": "markdown",
      "source": [
        "# Вывод предыдущей ячейки подтверждает легитимность использования формулы Бете-Блоха для расчета ионизационных потерь энергии ионизирующей частицы.\n",
        "\n",
        ">E << (Mc2 )/me\n",
        "\n"
      ],
      "metadata": {
        "id": "yAx1ihFfumCB"
      }
    },
    {
      "cell_type": "code",
      "source": [
        "def radium_223_ionization_energy_loss_in_air_f(E):\n",
        "  me = 9.1093837015*10**(-31) #кг масса электрона\n",
        "  Me= 511000 #эВ масса покоя электрона\n",
        "  Ee = 511*10**(3) *  1.602176634*10**(-19) #Дж энергия покоя электрона в джоулях\n",
        "  c = (Ee/me)**(0.5) # вывод константы скорости света м\\с\n",
        "  M = 223*931.49*10**(9) #эВ масса ядра радия 223\n",
        "  V = 3.05*10**(5) # м\\с скорость ядра отдачи радия 223\n",
        "  B = V/c # коэф. бетта\n",
        "  Z = 2 # заряд ядра отдачи в единицах позитрона\n",
        "  air_density = mgaza/vkamcm3 # г\\см3 плотность воздуха в камере\n",
        "  A_air = 28.98 #а.е.м. среднее массовое число воздуха\n",
        "  Z_air = 7.3 # единицы позитрона примем средний заряд ядер воздуха за заряд ядра азота\n",
        "  return 1/(3.1*10**(5)*((Z_air*(Z**2)*air_density)/(A_air*(B**2)))*(11.2+m.log((B**2)/(Z_air*(1-B**2)))-B**2))\n"
      ],
      "metadata": {
        "id": "7llbRyyrYRpN"
      },
      "execution_count": null,
      "outputs": []
    },
    {
      "cell_type": "code",
      "source": [
        "integr.quad(radium_223_ionization_energy_loss_in_air_f, 0, E)"
      ],
      "metadata": {
        "colab": {
          "base_uri": "https://localhost:8080/"
        },
        "id": "XFlEptQ4YVsu",
        "outputId": "82c22505-6f0f-4f37-9890-ba2e042cd5a9"
      },
      "execution_count": null,
      "outputs": [
        {
          "output_type": "execute_result",
          "data": {
            "text/plain": [
              "(-623775.9596630704, 6.925304326255936e-09)"
            ]
          },
          "metadata": {},
          "execution_count": 10
        }
      ]
    },
    {
      "cell_type": "code",
      "source": [
        "radium_223_ionization_energy_loss_in_air_f(0)"
      ],
      "metadata": {
        "id": "lC4phGe9Jn1r",
        "colab": {
          "base_uri": "https://localhost:8080/"
        },
        "outputId": "b773c875-61f3-4d59-fddd-cd48a8aae370"
      },
      "execution_count": null,
      "outputs": [
        {
          "output_type": "execute_result",
          "data": {
            "text/plain": [
              "-6.2377595966307045"
            ]
          },
          "metadata": {},
          "execution_count": 15
        }
      ]
    },
    {
      "cell_type": "code",
      "source": [],
      "metadata": {
        "id": "wWRZiQlbK_3d"
      },
      "execution_count": null,
      "outputs": []
    }
  ]
}